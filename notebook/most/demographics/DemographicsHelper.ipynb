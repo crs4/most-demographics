{
 "metadata": {
  "name": "",
  "signature": "sha256:b899ec779f39b236009cc5f18923f6bd57a9a8853f2a90f2f770bd6519fe93f0"
 },
 "nbformat": 3,
 "nbformat_minor": 0,
 "worksheets": [
  {
   "cells": [
    {
     "cell_type": "code",
     "collapsed": false,
     "input": [
      "#!/usr/bin/env python\n",
      "# -*- coding: utf-8 -*-\n",
      "\n",
      "import requests\n",
      "import json\n",
      "\n",
      "\n",
      "def print_response_data(class_name, dictionary):\n",
      "    print u'JSON response: %s\\n' % dictionary\n",
      "    if dictionary['success']:\n",
      "        # dump dictionary to print human readable data\n",
      "        print u'%s data:\\n%s' % (class_name, json.dumps(dictionary['data'], sort_keys=True, indent=4,\n",
      "                                                        separators=(',', ': ')))\n",
      "    else:\n",
      "        print dictionary['errors']\n",
      "\n",
      "\n",
      "def compose_post_request(host, api, data):\n",
      "    print 'Calling %s\\n' % api\n",
      "    response = requests.post('%s%s' % (host, api), data=json.dumps(data),\n",
      "                             headers={'content-type': 'application/json', 'accept': '*/*',\n",
      "                                      'X-Requested-With': 'XMLHttpRequest'})\n",
      "    print response.text\n",
      "    return response.json()\n",
      "\n",
      "\n",
      "def compose_get_request(host, api, params):\n",
      "    print 'Calling %s\\n' % api\n",
      "    response = requests.get('%s%s' % (host, api), params={'query_string': params})\n",
      "    return response.json()"
     ],
     "language": "python",
     "metadata": {},
     "outputs": [],
     "prompt_number": 3
    }
   ],
   "metadata": {}
  }
 ]
}