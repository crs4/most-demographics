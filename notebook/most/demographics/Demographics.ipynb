{
 "metadata": {
  "name": "",
  "signature": "sha256:7907edfacdd5b9264dad9807e94c91b7e3a5231d395a192d558398e97dcbe5e5"
 },
 "nbformat": 3,
 "nbformat_minor": 0,
 "worksheets": [
  {
   "cells": [
    {
     "cell_type": "heading",
     "level": 1,
     "metadata": {},
     "source": [
      "Demographics"
     ]
    },
    {
     "cell_type": "heading",
     "level": 2,
     "metadata": {},
     "source": [
      "Getting started"
     ]
    },
    {
     "cell_type": "heading",
     "level": 3,
     "metadata": {},
     "source": [
      "Download"
     ]
    },
    {
     "cell_type": "markdown",
     "metadata": {},
     "source": [
      "**Insert information on source**"
     ]
    },
    {
     "cell_type": "heading",
     "level": 3,
     "metadata": {},
     "source": [
      "Installation"
     ]
    },
    {
     "cell_type": "markdown",
     "metadata": {},
     "source": [
      "**Demographics** is a Django application, indipendent from any Django project.\n",
      "\n",
      "To use **Demographics** in your project, add it to `INSTALLED_APPS` in your settings.py file."
     ]
    },
    {
     "cell_type": "code",
     "collapsed": false,
     "input": [
      "INSTALLED_APPS = (\n",
      "    'django.contrib.admin',\n",
      "    'django.contrib.auth',\n",
      "    'django.contrib.contenttypes',\n",
      "    'django.contrib.sessions',\n",
      "    'django.contrib.messages',\n",
      "    'django.contrib.staticfiles',\n",
      "    # ...\n",
      "    # your apps go here\n",
      "    # ...\n",
      "    'demographics',The following **HowTo** makes use of `requests` and `json` module.\n",
      "\n",
      "The sample blocks of code illustrate how to use them making use of the **[helper shown in this module](http://localhost:8888/notebooks/DemographicsHelper.ipynb)**\n",
      ")"
     ],
     "language": "python",
     "metadata": {},
     "outputs": []
    },
    {
     "cell_type": "heading",
     "level": 3,
     "metadata": {},
     "source": [
      "API"
     ]
    },
    {
     "cell_type": "markdown",
     "metadata": {},
     "source": [
      "The following **HowTo** makes use of `requests` and `json` module.\n",
      "\n",
      "The sample blocks of code illustrate how to use them making use of the **[helper shown in this module](http://localhost:8888/notebooks/DemographicsHelper.ipynb)**"
     ]
    },
    {
     "cell_type": "heading",
     "level": 4,
     "metadata": {},
     "source": [
      "Identifier module"
     ]
    },
    {
     "cell_type": "markdown",
     "metadata": {},
     "source": [
      "Identifier module provides the following web API:\n",
      "\n",
      "* `/demographics/identifier/new/`\n",
      "\n",
      "* `/demographics/identifier/get/`\n",
      "\n",
      "* `/demographics/identifier/edit/`"
     ]
    },
    {
     "cell_type": "code",
     "collapsed": false,
     "input": [
      "# -*- coding: utf-8 -*-\n",
      "from helper import *\n",
      "\n",
      "\n",
      "HOST_ADDRESS = 'http://127.0.0.1:8000'\n",
      "IDENTIFIER_DATA = {\n",
      "    'type': 'business',\n",
      "    'domain': 'hospital_1',\n",
      "    'identifier': '0123456789'\n",
      "}\n",
      "\n",
      "\n",
      "identifier = compose_post_request(HOST_ADDRESS, '/demographics/identifier/new/', IDENTIFIER_DATA)\n",
      "print_response_data('identifier', identifier)"
     ],
     "language": "python",
     "metadata": {},
     "outputs": []
    },
    {
     "cell_type": "code",
     "collapsed": false,
     "input": [
      "# -*- coding: utf-8 -*-\n",
      "from helper import *\n",
      "\n",
      "\n",
      "HOST_ADDRESS = 'http://127.0.0.1:8000'\n",
      "\n",
      "\n",
      "identifier = compose_get_request(HOST_ADDRESS, '/demographics/identifier/get/', '01234')\n",
      "print_response_data('identifier', identifier)"
     ],
     "language": "python",
     "metadata": {},
     "outputs": []
    },
    {
     "cell_type": "code",
     "collapsed": false,
     "input": [
      "# -*- coding: utf-8 -*-\n",
      "from helper import *\n",
      "\n",
      "\n",
      "HOST_ADDRESS = 'http://127.0.0.1:8000'\n",
      "IDENTIFIER_DATA = {\n",
      "    'type': 'business',\n",
      "    'domain': 'hospital_X',\n",
      "    'identifier': 'ZZZZZZZZZZ'\n",
      "}\n",
      "\n",
      "\n",
      "identifier = compose_get_request(HOST_ADDRESS, '/demographics/identifier/get/', '01234')\n",
      "print_response_data('identifier', identifier)\n",
      "identifier_id = identifier['data'][0]['id']\n",
      "edited_identifier = compose_post_request(HOST_ADDRESS, '/demographics/identifier/%s/edit/' % identifier_id, IDENTIFIER_DATA)\n",
      "print_response_data('identifier', edited_identifier)"
     ],
     "language": "python",
     "metadata": {},
     "outputs": []
    },
    {
     "cell_type": "heading",
     "level": 4,
     "metadata": {},
     "source": [
      "City module"
     ]
    },
    {
     "cell_type": "markdown",
     "metadata": {},
     "source": [
      "City module provides the following web API:\n",
      "\n",
      "* `/demographics/city/new/`\n",
      "\n",
      "* `/demographics/city/get/`\n",
      "\n",
      "* `/demographics/city/edit/`"
     ]
    },
    {
     "cell_type": "code",
     "collapsed": false,
     "input": [
      "# -*- coding: utf-8 -*-\n",
      "from helper import *\n",
      "\n",
      "\n",
      "HOST_ADDRESS = 'http://127.0.0.1:8000'\n",
      "CITY_DATA = {\n",
      "    'name': 'Milano',\n",
      "    'province': 'MI',\n",
      "    'state': 'Italia',\n",
      "    'code': '20100'\n",
      "}\n",
      "\n",
      "\n",
      "city = compose_post_request(HOST_ADDRESS, '/demographics/city/new/', CITY_DATA)\n",
      "print_response_data('city', city)"
     ],
     "language": "python",
     "metadata": {},
     "outputs": []
    },
    {
     "cell_type": "code",
     "collapsed": false,
     "input": [
      "# -*- coding: utf-8 -*-\n",
      "from helper import *\n",
      "\n",
      "\n",
      "HOST_ADDRESS = 'http://127.0.0.1:8000'\n",
      "\n",
      "city = compose_get_request(HOST_ADDRESS, '/demographics/city/get/', 'Mi')\n",
      "print_response_data('city', city)"
     ],
     "language": "python",
     "metadata": {},
     "outputs": []
    },
    {
     "cell_type": "code",
     "collapsed": false,
     "input": [
      "# -*- coding: utf-8 -*-\n",
      "from helper import *\n",
      "\n",
      "\n",
      "HOST_ADDRESS = 'http://127.0.0.1:8000'\n",
      "CITY_DATA = {\n",
      "    'name': 'Milano',\n",
      "    'province': 'MI',\n",
      "    'state': 'Italia',\n",
      "    'code': '20128'\n",
      "}\n",
      "\n",
      "\n",
      "city = compose_get_request(HOST_ADDRESS, '/demographics/city/get/', 'Milano 20100')\n",
      "print_response_data('city', city)\n",
      "city_id = city['data'][0]['id']\n",
      "edited_city = compose_post_request(HOST_ADDRESS, '/demographics/city/%s/edit/' % city_id, CITY_DATA)\n",
      "print_response_data('city', edited_city)"
     ],
     "language": "python",
     "metadata": {},
     "outputs": []
    },
    {
     "cell_type": "heading",
     "level": 4,
     "metadata": {},
     "source": [
      "Patient module"
     ]
    },
    {
     "cell_type": "markdown",
     "metadata": {},
     "source": [
      "Patient module provides the following web API:\n",
      "\n",
      "* `/demographics/patient/new/`\n",
      "\n",
      "* `/demographics/patient/get/`\n",
      "\n",
      "* `/demographics/patient/edit/`\n",
      "\n",
      "* `/demographics/patient/deactivate/`\n",
      "\n",
      "* `/demographics/patient/activate/`\n",
      "\n",
      "* `# /demographics/patient/add_id/`\n",
      "\n",
      "* `# /demographics/patient/remove_id/`\n",
      "\n",
      "* `# /demographics/patient/edit/`\n",
      "\n",
      "* `# /demographics/patient/set_birth_place/`\n",
      "\n",
      "* `# /demographics/patient/set_city/`\n"
     ]
    },
    {
     "cell_type": "code",
     "collapsed": false,
     "input": [
      "# -*- coding: utf-8 -*-\n",
      "from helper import *\n",
      "\n",
      "\n",
      "HOST_ADDRESS = 'http://127.0.0.1:8000'\n",
      "PATIENT_DATA = {\n",
      "    'account_number': 'RSSMRA80H51B354M',\n",
      "    'first_name': 'Maria',\n",
      "    'last_name': 'Rossi',\n",
      "    'other_ids': [1],\n",
      "    'gender': 'F',\n",
      "    'birth_date': '1980-06-11',\n",
      "    'birth_place': 1,\n",
      "    'address': 'Via Cagliari 4',\n",
      "    'city': 4,\n",
      "    'active': True\n",
      "}\n",
      "\n",
      "\n",
      "patient = compose_post_request(HOST_ADDRESS, '/demographics/patient/new/', PATIENT_DATA)\n",
      "print_response_data('patient', patient)"
     ],
     "language": "python",
     "metadata": {},
     "outputs": []
    },
    {
     "cell_type": "code",
     "collapsed": false,
     "input": [
      "# -*- coding: utf-8 -*-\n",
      "from helper import *\n",
      "\n",
      "\n",
      "HOST_ADDRESS = 'http://127.0.0.1:8000'\n",
      "\n",
      "\n",
      "patient = compose_get_request(HOST_ADDRESS, '/demographics/patient/get/', 'RSS')\n",
      "print_response_data('patient', patient)"
     ],
     "language": "python",
     "metadata": {},
     "outputs": []
    },
    {
     "cell_type": "code",
     "collapsed": false,
     "input": [
      "# -*- coding: utf-8 -*-\n",
      "from helper import *\n",
      "\n",
      "\n",
      "HOST_ADDRESS = 'http://127.0.0.1:8000'\n",
      "PATIENT_DATA = {\n",
      "    'account_number': 'RSSMRA80H51B354M',\n",
      "    'first_name': 'Marianna',\n",
      "    'last_name': 'Rossi',\n",
      "    'other_ids': [1],\n",
      "    'gender': 'F',\n",
      "    'birth_date': '1980-06-11',\n",
      "    'birth_place': 1,\n",
      "    'address': 'Via Cagliari 4',\n",
      "    'city': 4,\n",
      "    'active': True\n",
      "}\n",
      "\n",
      "\n",
      "patient = compose_get_request(HOST_ADDRESS, '/demographics/patient/get/', 'RSS')\n",
      "print_response_data('patient', patient)\n",
      "patient_id = patient['data'][0]['id']\n",
      "edited_patient = compose_post_request(HOST_ADDRESS, '/demographics/patient/%s/edit/' % patient_id, PATIENT_DATA)\n",
      "print_response_data('patient', edited_patient)"
     ],
     "language": "python",
     "metadata": {},
     "outputs": []
    },
    {
     "cell_type": "heading",
     "level": 2,
     "metadata": {},
     "source": [
      "Examples"
     ]
    },
    {
     "cell_type": "markdown",
     "metadata": {},
     "source": [
      "Visit [examples page](http://127.0.0.1:8000/demo/)"
     ]
    },
    {
     "cell_type": "heading",
     "level": 2,
     "metadata": {},
     "source": [
      "Tests"
     ]
    }
   ],
   "metadata": {}
  }
 ]
}