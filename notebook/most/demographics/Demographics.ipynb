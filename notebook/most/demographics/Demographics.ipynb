{
 "metadata": {
  "name": "",
  "signature": "sha256:f537ad05acf1a64f7b1b9709a90a5ef8128692f79c0c0e15092c1eb5a07fab35"
 },
 "nbformat": 3,
 "nbformat_minor": 0,
 "worksheets": [
  {
   "cells": [
    {
     "cell_type": "heading",
     "level": 1,
     "metadata": {},
     "source": [
      "Demographics"
     ]
    },
    {
     "cell_type": "heading",
     "level": 2,
     "metadata": {},
     "source": [
      "Getting started"
     ]
    },
    {
     "cell_type": "heading",
     "level": 3,
     "metadata": {},
     "source": [
      "Download"
     ]
    },
    {
     "cell_type": "markdown",
     "metadata": {},
     "source": [
      "**Insert information on source**"
     ]
    },
    {
     "cell_type": "heading",
     "level": 3,
     "metadata": {},
     "source": [
      "Installation"
     ]
    },
    {
     "cell_type": "markdown",
     "metadata": {},
     "source": [
      "**Demographics** is a Django application, indipendent from any Django project.\n",
      "\n",
      "To use **Demographics** in your project, add it to `INSTALLED_APPS` in your settings.py file."
     ]
    },
    {
     "cell_type": "code",
     "collapsed": false,
     "input": [
      "INSTALLED_APPS = (\n",
      "    'django.contrib.admin',\n",
      "    'django.contrib.auth',\n",
      "    'django.contrib.contenttypes',\n",
      "    'django.contrib.sessions',\n",
      "    'django.contrib.messages',\n",
      "    'django.contrib.staticfiles',\n",
      "    # ...\n",
      "    # your apps go here\n",
      "    # ...\n",
      "    'demographics',\n",
      ")"
     ],
     "language": "python",
     "metadata": {},
     "outputs": []
    },
    {
     "cell_type": "heading",
     "level": 3,
     "metadata": {},
     "source": [
      "API"
     ]
    },
    {
     "cell_type": "markdown",
     "metadata": {},
     "source": [
      "The following **HowTo** makes use of `requests` and `json` module."
     ]
    },
    {
     "cell_type": "heading",
     "level": 4,
     "metadata": {},
     "source": [
      "Identifier module"
     ]
    },
    {
     "cell_type": "markdown",
     "metadata": {},
     "source": [
      "Identifier module provides the following web API:\n",
      "\n",
      "* `/demographics/identifier/new/`\n",
      "\n",
      "* `/demographics/identifier/get/`\n",
      "\n",
      "* `/demographics/identifier/edit/`"
     ]
    },
    {
     "cell_type": "heading",
     "level": 4,
     "metadata": {},
     "source": [
      "City module"
     ]
    },
    {
     "cell_type": "markdown",
     "metadata": {},
     "source": [
      "City module provides the following web API:\n",
      "\n",
      "* `/demographics/city/new/`\n",
      "\n",
      "* `/demographics/city/get/`\n",
      "\n",
      "* `/demographics/city/edit/`"
     ]
    },
    {
     "cell_type": "heading",
     "level": 4,
     "metadata": {},
     "source": [
      "Patient module"
     ]
    },
    {
     "cell_type": "markdown",
     "metadata": {},
     "source": [
      "Patient module provides the following web API:\n",
      "\n",
      "* `/demographics/patient/new/`\n",
      "\n",
      "* `/demographics/patient/get/`\n",
      "\n",
      "* `/demographics/patient/edit/`"
     ]
    },
    {
     "cell_type": "markdown",
     "metadata": {},
     "source": [
      "The following blocks of code illustrate how to use them."
     ]
    },
    {
     "cell_type": "code",
     "collapsed": false,
     "input": [
      "#!/usr/bin/env python\n",
      "# -*- coding: utf-8 -*-\n",
      "\n",
      "import requests\n",
      "import json\n",
      "import city_api, identifier_api, patient_api\n",
      "\n",
      "HOST_ADDRESS = 'http://127.0.0.1:8000'\n",
      "IDENTIFIER_DATA = {\n",
      "    'type': 'business',\n",
      "    'domain': 'hospital_1',\n",
      "    'identifier': '0123456789'\n",
      "}\n",
      "CITY_DATA = {\n",
      "    'name': 'Milano',\n",
      "    'province': 'MI',\n",
      "    'state': 'Italia',\n",
      "    'code': '20100'\n",
      "}\n",
      "PATIENT_DATA = {\n",
      "    'account_number': 'RSSMRA80H51B354M',\n",
      "    'first_name': 'Maria',\n",
      "    'last_name': 'Rossi',\n",
      "    'other_ids': [1],\n",
      "    'gender': 'F',\n",
      "    'birth_date': '1980-06-11',\n",
      "    'birth_place': 1,\n",
      "    'address': 'Via Cagliari 4',\n",
      "    'city': 4,\n",
      "    'active': True\n",
      "}\n",
      "APIs = {\n",
      "    'create_identifier': '/demographics/identifier/new/',\n",
      "    'get_identifier': '/demographics/identifier/get/',\n",
      "    'create_city': '/demographics/city/new/',\n",
      "    'get_city': '/demographics/city/get/',\n",
      "    'create_patient': '/demographics/patient/new/',\n",
      "    'get_patient': '/demographics/patient/get/'\n",
      "}\n",
      "\n",
      "\n",
      "def print_response_data(class_name, dictionary):\n",
      "    print u'JSON response: %s\\n' % dictionary\n",
      "    if dictionary['success']:\n",
      "        # dump dictionary to print human readable data\n",
      "        print u'%s data:\\n%s' % (class_name, json.dumps(dictionary['data'], sort_keys=True, indent=4,\n",
      "                                                        separators=(',', ': ')))\n",
      "    else:\n",
      "        print dictionary['errors']\n",
      "\n",
      "\n",
      "def compose_post_request(api, data):\n",
      "    print 'Calling %s\\n' % api\n",
      "    response = requests.post('%s%s' % (HOST_ADDRESS, api), data=json.dumps(data),\n",
      "                             headers={'content-type': 'application/json', 'accept': '*/*',\n",
      "                                      'X-Requested-With': 'XMLHttpRequest'})\n",
      "    print response.text\n",
      "    return response.json()\n",
      "\n",
      "\n",
      "def compose_get_request(api, params):\n",
      "    print 'Calling %s\\n' % api\n",
      "    response = requests.get('%s%s' % (HOST_ADDRESS, api), params={'query_string': params})\n",
      "    return response.json()\n",
      "\n",
      "\n",
      "def create_patient_from_scratch():\n",
      "    try:\n",
      "        identifier = compose_post_request(APIs['create_identifier'], IDENTIFIER_DATA)\n",
      "        print_response_data('identifier', identifier)\n",
      "        print 120 * '-', '\\n'\n",
      "        city = compose_post_request(APIs['create_city'], CITY_DATA)\n",
      "        print_response_data('city', city)\n",
      "        print 120 * '-', '\\n'\n",
      "        patient = compose_post_request(APIs['create_patient'], PATIENT_DATA)\n",
      "        print_response_data('patient', patient)\n",
      "        print 120 * '-', '\\n'\n",
      "        search_patients = compose_get_request(APIs['get_patient'], 'rossi ma')\n",
      "        print_response_data('patient', search_patients)\n",
      "        print 120 * '-', '\\n'\n",
      "    except Exception, e:\n",
      "        print e\n",
      "\n",
      "\n",
      "if __name__ == \"__main__\":\n",
      "    create_patient_from_scratch()"
     ],
     "language": "python",
     "metadata": {},
     "outputs": []
    },
    {
     "cell_type": "heading",
     "level": 2,
     "metadata": {},
     "source": [
      "Examples"
     ]
    },
    {
     "cell_type": "markdown",
     "metadata": {},
     "source": [
      "Visit [examples page](http://127.0.0.1:8000/demo/)"
     ]
    },
    {
     "cell_type": "heading",
     "level": 2,
     "metadata": {},
     "source": [
      "Tests"
     ]
    }
   ],
   "metadata": {}
  }
 ]
}