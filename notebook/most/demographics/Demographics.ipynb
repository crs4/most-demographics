{
 "metadata": {
  "name": "",
  "signature": "sha256:10a0b4dab064049a8c68da869aedd529f69af2d6364e63bf8befdc2a52731f9d"
 },
 "nbformat": 3,
 "nbformat_minor": 0,
 "worksheets": [
  {
   "cells": [
    {
     "cell_type": "heading",
     "level": 1,
     "metadata": {},
     "source": [
      "Demographics"
     ]
    },
    {
     "cell_type": "heading",
     "level": 2,
     "metadata": {},
     "source": [
      "Getting started"
     ]
    },
    {
     "cell_type": "heading",
     "level": 3,
     "metadata": {},
     "source": [
      "Download"
     ]
    },
    {
     "cell_type": "markdown",
     "metadata": {},
     "source": [
      "**Insert information on source**"
     ]
    },
    {
     "cell_type": "heading",
     "level": 3,
     "metadata": {},
     "source": [
      "Installation"
     ]
    },
    {
     "cell_type": "markdown",
     "metadata": {},
     "source": [
      "**Demographics** is a Django application, indipendent from any Django project.\n",
      "\n",
      "To use **Demographics** in your project, add it to `INSTALLED_APPS` in your settings.py file."
     ]
    },
    {
     "cell_type": "code",
     "collapsed": false,
     "input": [
      "INSTALLED_APPS = (\n",
      "    'django.contrib.admin',\n",
      "    'django.contrib.auth',\n",
      "    'django.contrib.contenttypes',\n",
      "    'django.contrib.sessions',\n",
      "    'django.contrib.messages',\n",
      "    'django.contrib.staticfiles',\n",
      "    # ...\n",
      "    # your apps go here\n",
      "    # ...\n",
      "    'demographics',\n",
      ")"
     ],
     "language": "python",
     "metadata": {},
     "outputs": []
    },
    {
     "cell_type": "heading",
     "level": 3,
     "metadata": {},
     "source": [
      "API"
     ]
    },
    {
     "cell_type": "markdown",
     "metadata": {},
     "source": [
      "The following **HowTo** makes use of `requests` and `json` module."
     ]
    },
    {
     "cell_type": "heading",
     "level": 4,
     "metadata": {},
     "source": [
      "Identifier module"
     ]
    },
    {
     "cell_type": "markdown",
     "metadata": {},
     "source": [
      "Identifier module provides the following web API:\n",
      "\n",
      "* `/demographics/identifier/new/`\n",
      "\n",
      "* `/demographics/identifier/get/`\n",
      "\n",
      "* `/demographics/identifier/edit/`\n",
      "\n",
      "The following blocks of code illustrate how to use them."
     ]
    },
    {
     "cell_type": "heading",
     "level": 5,
     "metadata": {},
     "source": [
      "/demographics/identifier/new/"
     ]
    },
    {
     "cell_type": "code",
     "collapsed": false,
     "input": [
      "#!/usr/bin/env python\n",
      "\n",
      "import requests\n",
      "import json\n",
      "\n",
      "HOST_ADDRESS = 'http://127.0.0.1:8000'\n",
      "IDENTIFIER_DATA = {\n",
      "    'type': 'business',\n",
      "    'domain': 'hospital_1',\n",
      "    'identifier': '0123456789'\n",
      "}\n",
      "\n",
      "\n",
      "def call_identifier_new():\n",
      "    \"\"\" /demographics/identifier/new/\n",
      "\n",
      "        method: 'POST'\n",
      "        data: '{'type': String or None,'domain': String or None,'identifier': String}'\n",
      "    \"\"\"\n",
      "    print 'In call_identifier_new method'\n",
      "    client = requests.Session()\n",
      "    # make a request to the server to obtain csrf token\n",
      "    pre_request = client.get(HOST_ADDRESS)\n",
      "    csrf_token = pre_request.cookies['csrftoken']\n",
      "    # post json data to the server. Make sure to set properly \"headers\" attribute!\n",
      "    response = client.post('%s/demographics/identifier/new/' % HOST_ADDRESS,\n",
      "                           data=json.dumps(IDENTIFIER_DATA),\n",
      "                           headers={\n",
      "                               'X-CSRFToken': csrf_token,\n",
      "                               'content-type': 'application/json',\n",
      "                               'referer': '%s/demographics/identifier/new/' % HOST_ADDRESS,\n",
      "                               'accept': '*/*',\n",
      "                               'X-Requested-With': 'XMLHttpRequest'\n",
      "                           })\n",
      "    response.encoding = 'ISO-8859-15'\n",
      "    response_dict = response.json()\n",
      "    print u'JSON response: %s' % response_dict\n",
      "    if response_dict['success']:\n",
      "        print u'cities data:\\n%s' % json.dumps(response_dict['data'], indent=4, separators=(',', ': '))\n",
      "    else:\n",
      "        print response_dict['errors']\n",
      "    \n",
      "\n",
      "if __name__ == \"__main__\":\n",
      "    call_identifier_new()"
     ],
     "language": "python",
     "metadata": {},
     "outputs": [
      {
       "output_type": "stream",
       "stream": "stdout",
       "text": [
        "In call_identifier_new method\n",
        "JSON response: {u'message': u'Identifier 1 already exists.', u'data': {u'domain': u'hospital_1', u'identifier': u'0123456789', u'type': u'business', u'id': u'1'}, u'success': True}"
       ]
      },
      {
       "output_type": "stream",
       "stream": "stdout",
       "text": [
        "\n",
        "cities data:\n",
        "{\n",
        "    \"domain\": \"hospital_1\",\n",
        "    \"identifier\": \"0123456789\",\n",
        "    \"type\": \"business\",\n",
        "    \"id\": \"1\"\n",
        "}\n"
       ]
      }
     ],
     "prompt_number": 2
    },
    {
     "cell_type": "heading",
     "level": 5,
     "metadata": {},
     "source": [
      "/demographics/identifier/get/"
     ]
    },
    {
     "cell_type": "code",
     "collapsed": false,
     "input": [
      "#!/usr/bin/env python\n",
      "\n",
      "import requests\n",
      "import json\n",
      "\n",
      "HOST_ADDRESS = 'http://127.0.0.1:8000'\n",
      "\n",
      "\n",
      "def call_identifier_get():\n",
      "    \"\"\" /demographics/identifier/get/\n",
      "\n",
      "        method: 'GET'\n",
      "        param: 'query_string': String\n",
      "    \"\"\"\n",
      "    print 'In call_identifier_get method'\n",
      "    # get an identifier from the server\n",
      "    response = requests.get('%s/demographics/identifier/get/' % HOST_ADDRESS, params={'query_string': '0123456789'})\n",
      "    response.encoding = 'ISO-8859-15'\n",
      "    response_dict = response.json()\n",
      "    print u'JSON response: %s' % response_dict\n",
      "    if response_dict['success']:\n",
      "        print u'cities data:\\n%s' % json.dumps(response_dict['data'], indent=4, separators=(',', ': '))\n",
      "    else:\n",
      "        print response_dict['errors']\n",
      "    \n",
      "\n",
      "if __name__ == \"__main__\":\n",
      "    call_identifier_get()"
     ],
     "language": "python",
     "metadata": {},
     "outputs": []
    },
    {
     "cell_type": "heading",
     "level": 4,
     "metadata": {},
     "source": [
      "City module"
     ]
    },
    {
     "cell_type": "markdown",
     "metadata": {},
     "source": [
      "City module provides the following web API:\n",
      "\n",
      "* `/demographics/city/new/`\n",
      "\n",
      "* `/demographics/city/get/`\n",
      "\n",
      "* `/demographics/city/edit/`\n",
      "\n",
      "The following blocks of code illustrate how to use them."
     ]
    },
    {
     "cell_type": "heading",
     "level": 5,
     "metadata": {},
     "source": [
      "/demographics/city/new/"
     ]
    },
    {
     "cell_type": "code",
     "collapsed": false,
     "input": [
      "#!/usr/bin/env python\n",
      "\n",
      "import requests\n",
      "import json\n",
      "\n",
      "HOST_ADDRESS = 'http://127.0.0.1:8000'\n",
      "CITY_DATA = {\n",
      "    'name': 'Milano',\n",
      "    'province': 'MI',\n",
      "    'state': 'Italia',\n",
      "    'code': '20100'\n",
      "}\n",
      "\n",
      "\n",
      "def call_city_new():\n",
      "    \"\"\" /demographics/city/new/\n",
      "\n",
      "        method: 'POST'\n",
      "        data: '{'name': String,'province': String or None,'state': String, code: String or None}'\n",
      "    \"\"\"\n",
      "    print 'In call_city_new method'\n",
      "    client = requests.Session()\n",
      "    # make a request to the server to obtain csrf token\n",
      "    pre_request = client.get(HOST_ADDRESS)\n",
      "    csrf_token = pre_request.cookies['csrftoken']\n",
      "    # post json data to the server. Make sure to set properly \"headers\" attribute!\n",
      "    response = client.post('%s/demographics/city/new/' % HOST_ADDRESS,\n",
      "                           data=json.dumps(CITY_DATA),\n",
      "                           headers={\n",
      "                               'X-CSRFToken': csrf_token,\n",
      "                               'content-type': 'application/json',\n",
      "                               'referer': '%s/demographics/city/new/' % HOST_ADDRESS,\n",
      "                               'accept': '*/*',\n",
      "                               'X-Requested-With': 'XMLHttpRequest'\n",
      "                           })\n",
      "    response.encoding = 'ISO-8859-15'\n",
      "    response_dict = response.json()\n",
      "    print u'JSON response: %s' % response_dict\n",
      "    if response_dict['success']:\n",
      "        print u'city data:\\n%s' % json.dumps(response_dict['data'], indent=4, separators=(',', ': '))\n",
      "    else:\n",
      "        print response_dict['errors']\n",
      "        \n",
      "        \n",
      "if __name__ == \"__main__\":\n",
      "    call_city_new()"
     ],
     "language": "python",
     "metadata": {},
     "outputs": []
    },
    {
     "cell_type": "heading",
     "level": 5,
     "metadata": {},
     "source": [
      "/demographics/city/get/"
     ]
    },
    {
     "cell_type": "code",
     "collapsed": false,
     "input": [
      "#!/usr/bin/env python\n",
      "\n",
      "import requests\n",
      "import json\n",
      "\n",
      "HOST_ADDRESS = 'http://127.0.0.1:8000'\n",
      "\n",
      "\n",
      "def call_city_get():\n",
      "    \"\"\" /demographics/city/get/\n",
      "\n",
      "        method: 'GET'\n",
      "        param: 'query_string': String\n",
      "    \"\"\"\n",
      "    print 'In call_city_get method'\n",
      "    # get a city from the server\n",
      "    response = requests.get('%s/demographics/city/get/' % HOST_ADDRESS, params={'query_string': 'milan'})\n",
      "    response.encoding = 'ISO-8859-15'\n",
      "    response_dict = response.json()\n",
      "    print u'JSON response: %s' % response_dict\n",
      "    if response_dict['success']:\n",
      "        print u'cities data:\\n%s' % json.dumps(response_dict['data'], indent=4, separators=(',', ': '))\n",
      "    else:\n",
      "        print response_dict['errors']\n",
      "        \n",
      "        \n",
      "if __name__ == \"__main__\":\n",
      "    call_city_get()"
     ],
     "language": "python",
     "metadata": {},
     "outputs": []
    },
    {
     "cell_type": "heading",
     "level": 4,
     "metadata": {},
     "source": [
      "Patient module"
     ]
    },
    {
     "cell_type": "markdown",
     "metadata": {},
     "source": [
      "Patient module provides the following web API:\n",
      "\n",
      "* `/demographics/patient/new/`\n",
      "\n",
      "* `/demographics/patient/get/`\n",
      "\n",
      "* `/demographics/patient/edit/`\n",
      "\n",
      "The following blocks of code illustrate how to use them."
     ]
    },
    {
     "cell_type": "heading",
     "level": 5,
     "metadata": {},
     "source": [
      "/demographics/patient/new/"
     ]
    },
    {
     "cell_type": "code",
     "collapsed": false,
     "input": [
      "#!/usr/bin/env python\n",
      "\n",
      "import requests\n",
      "import json\n",
      "\n",
      "HOST_ADDRESS = 'http://127.0.0.1:8000'\n",
      "PATIENT_DATA = {\n",
      "    'account_number': 'RSSMRA80H51B354M',\n",
      "    'first_name': 'Maria',\n",
      "    'last_name': 'Rossi',\n",
      "    'other_ids': [1],\n",
      "    'gender': 'F',\n",
      "    'birth_date': '1980-06-11',\n",
      "    'birth_place': 1,\n",
      "    'address': 'Via Muravera 4',\n",
      "    'city': 4,\n",
      "    'active': True\n",
      "}\n",
      "\n",
      "\n",
      "def call_patient_new():\n",
      "    \"\"\" call /demographics/patient/new/\n",
      "\n",
      "        method: 'POST'\n",
      "        data: {'account_number': String or None, 'first_name': String, 'last_name': String,\n",
      "               'other_ids': Array of Int or None, 'gender': 'M' | 'F', 'birth_date': Date, 'birth_place': Int,\n",
      "               'address': String or None, 'city': Int or None, 'phone': String or None, 'mobile': String or None,\n",
      "               'email': String or None, 'certified_email': String or None, 'active': True | False}\n",
      "    \"\"\"\n",
      "    print 'In call_patient_new method'\n",
      "    client = requests.Session()\n",
      "    # make a request to the server to obtain csrf token\n",
      "    pre_request = client.get(HOST_ADDRESS)\n",
      "    csrf_token = pre_request.cookies['csrftoken']\n",
      "    # post json data to the server. Make sure to set properly \"headers\" attribute!\n",
      "    response = client.post('%s/demographics/patient/new/' % HOST_ADDRESS,\n",
      "                           data=json.dumps(PATIENT_DATA),\n",
      "                           headers={\n",
      "                               'X-CSRFToken': csrf_token,\n",
      "                               'content-type': 'application/json',\n",
      "                               'referer': '%s/demographics/patient/new/' % HOST_ADDRESS,\n",
      "                               'accept': '*/*',\n",
      "                               'X-Requested-With': 'XMLHttpRequest'\n",
      "                           })\n",
      "    response.encoding = 'ISO-8859-15'\n",
      "    response_dict = response.json()\n",
      "    print u'JSON response: %s' % response_dict\n",
      "    if response_dict['success']:\n",
      "        print u'patient data:\\n%s' % json.dumps(response_dict['data'], indent=4, separators=(',', ': '))\n",
      "    else:\n",
      "        print response_dict['errors']\n",
      "\n",
      "\n",
      "if __name__ == \"__main__\":\n",
      "    call_patient_new()\n"
     ],
     "language": "python",
     "metadata": {},
     "outputs": []
    },
    {
     "cell_type": "heading",
     "level": 5,
     "metadata": {},
     "source": [
      "/demographics/patient/get/"
     ]
    },
    {
     "cell_type": "code",
     "collapsed": false,
     "input": [
      "#!/usr/bin/env python\n",
      "\n",
      "import requests\n",
      "import json\n",
      "\n",
      "HOST_ADDRESS = 'http://127.0.0.1:8000'\n",
      "\n",
      "\n",
      "def call_patient_get():\n",
      "    \"\"\" call /demographics/patient/get/\n",
      "\n",
      "        method: 'GET'\n",
      "        param: 'query_string': String\n",
      "    \"\"\"\n",
      "    print 'In call_patient_get method'\n",
      "    # get an patient from the server\n",
      "    response = requests.get('%s/demographics/patient/get/' % HOST_ADDRESS, params={'query_string': 'rss'})\n",
      "    response.encoding = 'ISO-8859-15'\n",
      "    response_dict = response.json()\n",
      "    print u'JSON response: %s' % response_dict\n",
      "    if response_dict['success']:\n",
      "        print u'patient data:\\n%s' % json.dumps(response_dict['data'], indent=4, separators=(',', ': '))\n",
      "    else:\n",
      "        print response_dict['errors']\n",
      "\n",
      "\n",
      "if __name__ == \"__main__\":\n",
      "    call_patient_get()\n"
     ],
     "language": "python",
     "metadata": {},
     "outputs": []
    },
    {
     "cell_type": "heading",
     "level": 2,
     "metadata": {},
     "source": [
      "Examples"
     ]
    },
    {
     "cell_type": "markdown",
     "metadata": {},
     "source": [
      "Visit [examples page](http://127.0.0.1:8000/demo/)"
     ]
    },
    {
     "cell_type": "heading",
     "level": 2,
     "metadata": {},
     "source": [
      "Tests"
     ]
    }
   ],
   "metadata": {}
  }
 ]
}